{
 "cells": [
  {
   "cell_type": "markdown",
   "id": "5d602527",
   "metadata": {},
   "source": [
    "### Loops\n",
    " - Used for repetition\n",
    "    Iterable: An object that can be iterated over e.g. _Lists, Tuples, Dictionaries, Strings, Sets_\n",
    "    - Iterator: variable that goes through each element in the iterable\n",
    "\n",
    "<u> Types of Loops </u>\n",
    " 1. For Loops\n",
    " 2. While loops\n",
    "    "
   ]
  },
  {
   "cell_type": "markdown",
   "id": "9ba76765",
   "metadata": {},
   "source": []
  },
  {
   "cell_type": "markdown",
   "id": "9b7572a6",
   "metadata": {},
   "source": [
    "#### For Loop example"
   ]
  },
  {
   "cell_type": "code",
   "execution_count": null,
   "id": "c852b65e",
   "metadata": {},
   "outputs": [
    {
     "name": "stdout",
     "output_type": "stream",
     "text": [
      "1\n",
      "2\n",
      "3\n",
      "4\n",
      "Loop completed successfully.\n"
     ]
    }
   ],
   "source": [
    "for i in range(1, 5):\n",
    "    print(i)\n",
    "else:\n",
    "    print(\"Loop completed successfully.\")"
   ]
  },
  {
   "cell_type": "markdown",
   "id": "ec9486d8",
   "metadata": {},
   "source": [
    "#### While Loop example"
   ]
  },
  {
   "cell_type": "code",
   "execution_count": null,
   "id": "673cdff6",
   "metadata": {},
   "outputs": [
    {
     "name": "stdout",
     "output_type": "stream",
     "text": [
      "1\n",
      "2\n",
      "3\n",
      "4\n"
     ]
    }
   ],
   "source": [
    "# While condition == True:\n",
    "\n",
    "i=1\n",
    "while i<5:\n",
    "    print(i)\n",
    "    i += 1\n"
   ]
  },
  {
   "cell_type": "markdown",
   "id": "7961f1b0",
   "metadata": {},
   "source": [
    "#### Checking if a number is even or odd"
   ]
  },
  {
   "cell_type": "code",
   "execution_count": null,
   "id": "2a7a137d",
   "metadata": {},
   "outputs": [
    {
     "name": "stdout",
     "output_type": "stream",
     "text": [
      "101 is odd\n"
     ]
    }
   ],
   "source": [
    "x = 101\n",
    "\n",
    "if x % 2 == 0:\n",
    "    print(x, \"is an even\")\n",
    "else:\n",
    "    print(x, \"is an odd\")"
   ]
  },
  {
   "cell_type": "markdown",
   "id": "62972d9c",
   "metadata": {},
   "source": [
    "Input from user checking if a number is even or odd"
   ]
  },
  {
   "cell_type": "code",
   "execution_count": null,
   "id": "708d3173",
   "metadata": {},
   "outputs": [
    {
     "name": "stdout",
     "output_type": "stream",
     "text": [
      "205 is an odd\n"
     ]
    }
   ],
   "source": [
    "x = int(input(\"Enter a number: \"))\n",
    "if x % 2 == 0:\n",
    "    print(x, \"is an even\")\n",
    "else:\n",
    "    print(x, \"is an odd\")\n",
    "# Checking if a number is prime\n"
   ]
  },
  {
   "cell_type": "code",
   "execution_count": 11,
   "id": "ed5ba99f",
   "metadata": {},
   "outputs": [
    {
     "name": "stdout",
     "output_type": "stream",
     "text": [
      "Sorry! You are not allowed to enter the party\n"
     ]
    }
   ],
   "source": [
    "# Allow: greater than 18 & less than 50 years of age\n",
    "\n",
    "x = int(input(\"Enter your age: \"))\n",
    "if x < 18 or x > 50:\n",
    "    print(\"Sorry! You are not allowed to enter the party\")\n",
    "else:\n",
    "    print(\"You are allowed to enter the party\")"
   ]
  },
  {
   "cell_type": "markdown",
   "id": "6f11f35a",
   "metadata": {},
   "source": [
    "#### Program to provide discounts/offers"
   ]
  },
  {
   "cell_type": "code",
   "execution_count": 2,
   "id": "8b3c0818",
   "metadata": {},
   "outputs": [
    {
     "name": "stdout",
     "output_type": "stream",
     "text": [
      "OOPS! No vouchers\n"
     ]
    }
   ],
   "source": [
    "shopping_amt = int(input(\"Enter your billed amount\"))\n",
    "if shopping_amt >= 5000:\n",
    "    print(\"You have won a voucher of 1000$\")\n",
    "elif shopping_amt >= 25000:\n",
    "    print(\"You have won a voucher of 500$\")\n",
    "else: \n",
    "  print(\"OOPS! No vouchers\")  \n"
   ]
  },
  {
   "cell_type": "markdown",
   "id": "49c77465",
   "metadata": {},
   "source": [
    "### Iterations"
   ]
  },
  {
   "cell_type": "markdown",
   "id": "48222e7c",
   "metadata": {},
   "source": [
    "#### Iterate over a list of integers"
   ]
  },
  {
   "cell_type": "code",
   "execution_count": 5,
   "id": "6c5d2715",
   "metadata": {},
   "outputs": [
    {
     "name": "stdout",
     "output_type": "stream",
     "text": [
      "5\n",
      "10\n",
      "20\n",
      "30\n",
      "40\n",
      "50\n"
     ]
    }
   ],
   "source": [
    "list1 = [10, 20, 30, 40, 50]\n",
    "print(len(list1))\n",
    "for i in list1:\n",
    "    print(i)"
   ]
  },
  {
   "cell_type": "markdown",
   "id": "a10fc708",
   "metadata": {},
   "source": [
    "#### Iterate over a String"
   ]
  },
  {
   "cell_type": "code",
   "execution_count": 7,
   "id": "621fce3e",
   "metadata": {},
   "outputs": [
    {
     "name": "stdout",
     "output_type": "stream",
     "text": [
      "H\n",
      "e\n",
      "l\n",
      "l\n",
      "o\n"
     ]
    }
   ],
   "source": [
    "str1 = \"Hello\"\n",
    "for i in str1:\n",
    "    print(i)"
   ]
  },
  {
   "cell_type": "markdown",
   "id": "40bc4684",
   "metadata": {},
   "source": [
    "#### Iterate over a Dictionary"
   ]
  },
  {
   "cell_type": "code",
   "execution_count": 14,
   "id": "fc099563",
   "metadata": {},
   "outputs": [
    {
     "name": "stdout",
     "output_type": "stream",
     "text": [
      "1\n",
      "2\n",
      "3\n"
     ]
    }
   ],
   "source": [
    "student_data = {1: [\"Sam\",21], 2:[\"Sharma\", 29], 3: [\"Sam\", 25]}\n",
    "for i in student_data:\n",
    "    print(i)"
   ]
  },
  {
   "cell_type": "code",
   "execution_count": null,
   "id": "93acb884",
   "metadata": {},
   "outputs": [
    {
     "name": "stdout",
     "output_type": "stream",
     "text": [
      "(1, ['Sam', 21])\n",
      "(2, ['Sharma', 29])\n",
      "(3, ['Sam', 25])\n"
     ]
    }
   ],
   "source": [
    "student_data = {1: [\"Sam\",21], 2:[\"Sharma\", 29], 3: [\"Sam\", 25]}\n",
    "for i in student_data.items():\n",
    "    print(i)\n"
   ]
  },
  {
   "cell_type": "code",
   "execution_count": 12,
   "id": "719437b5",
   "metadata": {},
   "outputs": [
    {
     "name": "stdout",
     "output_type": "stream",
     "text": [
      "['Sam', 21]\n",
      "['Sharma', 29]\n",
      "['Sam', 25]\n"
     ]
    }
   ],
   "source": [
    "for i,j in student_data.items():\n",
    "    print(j)\n"
   ]
  },
  {
   "cell_type": "markdown",
   "id": "b7efc692",
   "metadata": {},
   "source": [
    "#### Iterate over a range of values"
   ]
  },
  {
   "cell_type": "code",
   "execution_count": 15,
   "id": "356a65f2",
   "metadata": {},
   "outputs": [
    {
     "name": "stdout",
     "output_type": "stream",
     "text": [
      "1\n",
      "2\n",
      "3\n",
      "4\n",
      "5\n",
      "6\n"
     ]
    }
   ],
   "source": [
    "for i in range(1,7):\n",
    "  print(i)"
   ]
  },
  {
   "cell_type": "markdown",
   "id": "4db486e4",
   "metadata": {},
   "source": [
    "### Comprehension"
   ]
  },
  {
   "cell_type": "markdown",
   "id": "9f9f25d4",
   "metadata": {},
   "source": [
    "#### Appending "
   ]
  },
  {
   "cell_type": "code",
   "execution_count": 17,
   "id": "54c4fe43",
   "metadata": {},
   "outputs": [
    {
     "name": "stdout",
     "output_type": "stream",
     "text": [
      "['Automobiles', 'Honda', 'Benz', 'Maruti', 'Kia']\n"
     ]
    }
   ],
   "source": [
    "list_1 = [\"Automobiles\",\"Honda\", \"Benz\", \"Maruti\",\"Kia\"]\n",
    "\n",
    "list_2 = []\n",
    "\n",
    "for i in list_1:\n",
    "    list_2.append(i)\n",
    "print(list_2)"
   ]
  },
  {
   "cell_type": "markdown",
   "id": "624f0219",
   "metadata": {},
   "source": [
    "#### Find Length"
   ]
  },
  {
   "cell_type": "code",
   "execution_count": 18,
   "id": "5b98fc14",
   "metadata": {},
   "outputs": [
    {
     "name": "stdout",
     "output_type": "stream",
     "text": [
      "[11, 5, 4, 6, 3]\n"
     ]
    }
   ],
   "source": [
    "list_1 = [\"Automobiles\",\"Honda\", \"Benz\", \"Maruti\",\"Kia\"]\n",
    "\n",
    "list_2 = []\n",
    "\n",
    "for i in list_1:\n",
    "    list_2.append(len(i))\n",
    "print(list_2)"
   ]
  },
  {
   "cell_type": "code",
   "execution_count": 19,
   "id": "1c5aec04",
   "metadata": {},
   "outputs": [
    {
     "name": "stdout",
     "output_type": "stream",
     "text": [
      "[11, 5, 4, 6, 3]\n"
     ]
    }
   ],
   "source": [
    "list_1 = [\"Automobiles\",\"Honda\", \"Benz\", \"Maruti\",\"Kia\"]\n",
    "\n",
    "list_2 = [len(i) for i in list_1]\n",
    "\n",
    "print(list_2)"
   ]
  },
  {
   "cell_type": "code",
   "execution_count": 22,
   "id": "a7cd59c2",
   "metadata": {},
   "outputs": [
    {
     "name": "stdout",
     "output_type": "stream",
     "text": [
      "{'Automobiles': 11, 'Honda': 5, 'Benz': 4, 'Maruti': 6, 'Kia': 3}\n"
     ]
    }
   ],
   "source": [
    "list_1 = [\"Automobiles\",\"Honda\", \"Benz\", \"Maruti\",\"Kia\"]\n",
    "\n",
    "d = {i: len(i) for i in list_1}\n",
    "\n",
    "print(d)"
   ]
  },
  {
   "cell_type": "markdown",
   "id": "ebc8f80f",
   "metadata": {},
   "source": [
    "### FUNCTIONS\n",
    " - Named sequence of statements that performs some operations.\n",
    " - Two attributes are needed: Function name and argument\n",
    " - User defined functioned: Users defined by developers using keyword **def**\n",
    " - def function_name():"
   ]
  },
  {
   "cell_type": "markdown",
   "id": "08105c92",
   "metadata": {},
   "source": [
    "#### Lambda Function\n",
    " - Small anonymous functions to make life easier for developers.\n",
    " - It can take many arguments but only one expression.\n",
    " - It reduces the number of lines in a code file.\n",
    " - lambda arguments : expression"
   ]
  },
  {
   "cell_type": "code",
   "execution_count": 2,
   "id": "a4beb308",
   "metadata": {},
   "outputs": [],
   "source": [
    "# Even or Odd\n",
    "\n",
    "def even_odd(num):\n",
    "    if num % 2 == 0:\n",
    "        print (num, \"This is an even number\")\n",
    "    else:\n",
    "        print (num, \"This is an odd number\")"
   ]
  },
  {
   "cell_type": "code",
   "execution_count": 3,
   "id": "3f9eccd3",
   "metadata": {},
   "outputs": [
    {
     "name": "stdout",
     "output_type": "stream",
     "text": [
      "10 This is an even number\n"
     ]
    }
   ],
   "source": [
    "even_odd(10)"
   ]
  },
  {
   "cell_type": "code",
   "execution_count": null,
   "id": "eff7e611",
   "metadata": {},
   "outputs": [],
   "source": [
    "# Factorial of a number\n",
    "# 4! = 4*3*2*1 = 24\n",
    "# n! = n*(n-1)*(n-2)*...*1\n",
    "def fact_number(n):\n",
    "    fact = 1\n",
    "    for i in range(1, n+1):\n",
    "        fact = fact * i\n",
    "    return fact"
   ]
  },
  {
   "cell_type": "code",
   "execution_count": 10,
   "id": "b89fe7fa",
   "metadata": {},
   "outputs": [
    {
     "data": {
      "text/plain": [
       "720"
      ]
     },
     "execution_count": 10,
     "metadata": {},
     "output_type": "execute_result"
    }
   ],
   "source": [
    "fact_number(6)"
   ]
  },
  {
   "cell_type": "markdown",
   "id": "f9aa3e8e",
   "metadata": {},
   "source": [
    "#### Sum of all natural numbers till the number provided\n",
    "\n",
    "##### In other terms, the cummulative function"
   ]
  },
  {
   "cell_type": "code",
   "execution_count": 12,
   "id": "b3f9809c",
   "metadata": {},
   "outputs": [],
   "source": [
    "def sum_natural(n):\n",
    "    num = 0\n",
    "\n",
    "    for i in range(1,n+1):\n",
    "        num = num+i\n",
    "    return num"
   ]
  },
  {
   "cell_type": "code",
   "execution_count": 14,
   "id": "0b960d6e",
   "metadata": {},
   "outputs": [
    {
     "data": {
      "text/plain": [
       "6"
      ]
     },
     "execution_count": 14,
     "metadata": {},
     "output_type": "execute_result"
    }
   ],
   "source": [
    "sum_natural(3)"
   ]
  },
  {
   "cell_type": "markdown",
   "id": "81ea8afb",
   "metadata": {},
   "source": [
    "#### LAMBDA FUNCTIONS"
   ]
  },
  {
   "cell_type": "code",
   "execution_count": null,
   "id": "52ca28cb",
   "metadata": {},
   "outputs": [],
   "source": []
  }
 ],
 "metadata": {
  "kernelspec": {
   "display_name": "Python 3",
   "language": "python",
   "name": "python3"
  },
  "language_info": {
   "codemirror_mode": {
    "name": "ipython",
    "version": 3
   },
   "file_extension": ".py",
   "mimetype": "text/x-python",
   "name": "python",
   "nbconvert_exporter": "python",
   "pygments_lexer": "ipython3",
   "version": "3.13.2"
  }
 },
 "nbformat": 4,
 "nbformat_minor": 5
}
