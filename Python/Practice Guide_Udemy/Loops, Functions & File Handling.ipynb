{
 "cells": [
  {
   "cell_type": "markdown",
   "id": "5d602527",
   "metadata": {},
   "source": [
    "### Loops\n",
    " - Used for repetition\n",
    "    Iterable: An object that can be iterated over e.g. _Lists, Tuples, Dictionaries, Strings, Sets_\n",
    "    - Iterator: variable that goes through each element in the iterable\n",
    "\n",
    "<u> Types of Loops </u>\n",
    " 1. For Loops\n",
    " 2. While loops\n",
    "    "
   ]
  },
  {
   "cell_type": "markdown",
   "id": "9ba76765",
   "metadata": {},
   "source": []
  },
  {
   "cell_type": "markdown",
   "id": "9b7572a6",
   "metadata": {},
   "source": [
    "#### For Loop example"
   ]
  },
  {
   "cell_type": "code",
   "execution_count": null,
   "id": "c852b65e",
   "metadata": {},
   "outputs": [
    {
     "name": "stdout",
     "output_type": "stream",
     "text": [
      "1\n",
      "2\n",
      "3\n",
      "4\n",
      "Loop completed successfully.\n"
     ]
    }
   ],
   "source": [
    "for i in range(1, 5):\n",
    "    print(i)\n",
    "else:\n",
    "    print(\"Loop completed successfully.\")"
   ]
  },
  {
   "cell_type": "markdown",
   "id": "ec9486d8",
   "metadata": {},
   "source": [
    "#### While Loop example"
   ]
  },
  {
   "cell_type": "code",
   "execution_count": null,
   "id": "673cdff6",
   "metadata": {},
   "outputs": [
    {
     "name": "stdout",
     "output_type": "stream",
     "text": [
      "1\n",
      "2\n",
      "3\n",
      "4\n"
     ]
    }
   ],
   "source": [
    "# While condition == True:\n",
    "\n",
    "i=1\n",
    "while i<5:\n",
    "    print(i)\n",
    "    i += 1\n"
   ]
  },
  {
   "cell_type": "markdown",
   "id": "7961f1b0",
   "metadata": {},
   "source": [
    "#### Checking if a number is even or odd"
   ]
  },
  {
   "cell_type": "code",
   "execution_count": null,
   "id": "2a7a137d",
   "metadata": {},
   "outputs": [
    {
     "name": "stdout",
     "output_type": "stream",
     "text": [
      "101 is odd\n"
     ]
    }
   ],
   "source": [
    "x = 101\n",
    "\n",
    "if x % 2 == 0:\n",
    "    print(x, \"is an even\")\n",
    "else:\n",
    "    print(x, \"is an odd\")"
   ]
  },
  {
   "cell_type": "markdown",
   "id": "62972d9c",
   "metadata": {},
   "source": [
    "Input from user checking if a number is even or odd"
   ]
  },
  {
   "cell_type": "code",
   "execution_count": null,
   "id": "708d3173",
   "metadata": {},
   "outputs": [
    {
     "name": "stdout",
     "output_type": "stream",
     "text": [
      "205 is an odd\n"
     ]
    }
   ],
   "source": [
    "x = int(input(\"Enter a number: \"))\n",
    "if x % 2 == 0:\n",
    "    print(x, \"is an even\")\n",
    "else:\n",
    "    print(x, \"is an odd\")\n",
    "# Checking if a number is prime\n"
   ]
  },
  {
   "cell_type": "code",
   "execution_count": 11,
   "id": "ed5ba99f",
   "metadata": {},
   "outputs": [
    {
     "name": "stdout",
     "output_type": "stream",
     "text": [
      "Sorry! You are not allowed to enter the party\n"
     ]
    }
   ],
   "source": [
    "# Allow: greater than 18 & less than 50 years of age\n",
    "\n",
    "x = int(input(\"Enter your age: \"))\n",
    "if x < 18 or x > 50:\n",
    "    print(\"Sorry! You are not allowed to enter the party\")\n",
    "else:\n",
    "    print(\"You are allowed to enter the party\")"
   ]
  },
  {
   "cell_type": "markdown",
   "id": "6f11f35a",
   "metadata": {},
   "source": [
    "#### Program to provide discounts/offers"
   ]
  },
  {
   "cell_type": "code",
   "execution_count": 2,
   "id": "8b3c0818",
   "metadata": {},
   "outputs": [
    {
     "name": "stdout",
     "output_type": "stream",
     "text": [
      "OOPS! No vouchers\n"
     ]
    }
   ],
   "source": [
    "shopping_amt = int(input(\"Enter your billed amount\"))\n",
    "if shopping_amt >= 5000:\n",
    "    print(\"You have won a voucher of 1000$\")\n",
    "elif shopping_amt >= 25000:\n",
    "    print(\"You have won a voucher of 500$\")\n",
    "else: \n",
    "  print(\"OOPS! No vouchers\")  \n"
   ]
  },
  {
   "cell_type": "markdown",
   "id": "49c77465",
   "metadata": {},
   "source": [
    "### Iterations"
   ]
  },
  {
   "cell_type": "markdown",
   "id": "48222e7c",
   "metadata": {},
   "source": [
    "#### Iterate over a list of integers"
   ]
  },
  {
   "cell_type": "code",
   "execution_count": 5,
   "id": "6c5d2715",
   "metadata": {},
   "outputs": [
    {
     "name": "stdout",
     "output_type": "stream",
     "text": [
      "5\n",
      "10\n",
      "20\n",
      "30\n",
      "40\n",
      "50\n"
     ]
    }
   ],
   "source": [
    "list1 = [10, 20, 30, 40, 50]\n",
    "print(len(list1))\n",
    "for i in list1:\n",
    "    print(i)"
   ]
  },
  {
   "cell_type": "markdown",
   "id": "a10fc708",
   "metadata": {},
   "source": [
    "#### Iterate over a String"
   ]
  },
  {
   "cell_type": "code",
   "execution_count": 7,
   "id": "621fce3e",
   "metadata": {},
   "outputs": [
    {
     "name": "stdout",
     "output_type": "stream",
     "text": [
      "H\n",
      "e\n",
      "l\n",
      "l\n",
      "o\n"
     ]
    }
   ],
   "source": [
    "str1 = \"Hello\"\n",
    "for i in str1:\n",
    "    print(i)"
   ]
  },
  {
   "cell_type": "markdown",
   "id": "40bc4684",
   "metadata": {},
   "source": [
    "#### Iterate over a Dictionary"
   ]
  },
  {
   "cell_type": "code",
   "execution_count": 14,
   "id": "fc099563",
   "metadata": {},
   "outputs": [
    {
     "name": "stdout",
     "output_type": "stream",
     "text": [
      "1\n",
      "2\n",
      "3\n"
     ]
    }
   ],
   "source": [
    "student_data = {1: [\"Sam\",21], 2:[\"Sharma\", 29], 3: [\"Sam\", 25]}\n",
    "for i in student_data:\n",
    "    print(i)"
   ]
  },
  {
   "cell_type": "code",
   "execution_count": null,
   "id": "93acb884",
   "metadata": {},
   "outputs": [
    {
     "name": "stdout",
     "output_type": "stream",
     "text": [
      "(1, ['Sam', 21])\n",
      "(2, ['Sharma', 29])\n",
      "(3, ['Sam', 25])\n"
     ]
    }
   ],
   "source": [
    "student_data = {1: [\"Sam\",21], 2:[\"Sharma\", 29], 3: [\"Sam\", 25]}\n",
    "for i in student_data.items():\n",
    "    print(i)\n"
   ]
  },
  {
   "cell_type": "code",
   "execution_count": 12,
   "id": "719437b5",
   "metadata": {},
   "outputs": [
    {
     "name": "stdout",
     "output_type": "stream",
     "text": [
      "['Sam', 21]\n",
      "['Sharma', 29]\n",
      "['Sam', 25]\n"
     ]
    }
   ],
   "source": [
    "for i,j in student_data.items():\n",
    "    print(j)\n"
   ]
  },
  {
   "cell_type": "markdown",
   "id": "b7efc692",
   "metadata": {},
   "source": [
    "#### Iterate over a range of values"
   ]
  },
  {
   "cell_type": "code",
   "execution_count": 15,
   "id": "356a65f2",
   "metadata": {},
   "outputs": [
    {
     "name": "stdout",
     "output_type": "stream",
     "text": [
      "1\n",
      "2\n",
      "3\n",
      "4\n",
      "5\n",
      "6\n"
     ]
    }
   ],
   "source": [
    "for i in range(1,7):\n",
    "  print(i)"
   ]
  },
  {
   "cell_type": "markdown",
   "id": "4db486e4",
   "metadata": {},
   "source": [
    "### Comprehension"
   ]
  },
  {
   "cell_type": "markdown",
   "id": "9f9f25d4",
   "metadata": {},
   "source": [
    "#### Appending "
   ]
  },
  {
   "cell_type": "code",
   "execution_count": 17,
   "id": "54c4fe43",
   "metadata": {},
   "outputs": [
    {
     "name": "stdout",
     "output_type": "stream",
     "text": [
      "['Automobiles', 'Honda', 'Benz', 'Maruti', 'Kia']\n"
     ]
    }
   ],
   "source": [
    "list_1 = [\"Automobiles\",\"Honda\", \"Benz\", \"Maruti\",\"Kia\"]\n",
    "\n",
    "list_2 = []\n",
    "\n",
    "for i in list_1:\n",
    "    list_2.append(i)\n",
    "print(list_2)"
   ]
  },
  {
   "cell_type": "markdown",
   "id": "624f0219",
   "metadata": {},
   "source": [
    "#### Find Length"
   ]
  },
  {
   "cell_type": "code",
   "execution_count": 18,
   "id": "5b98fc14",
   "metadata": {},
   "outputs": [
    {
     "name": "stdout",
     "output_type": "stream",
     "text": [
      "[11, 5, 4, 6, 3]\n"
     ]
    }
   ],
   "source": [
    "list_1 = [\"Automobiles\",\"Honda\", \"Benz\", \"Maruti\",\"Kia\"]\n",
    "\n",
    "list_2 = []\n",
    "\n",
    "for i in list_1:\n",
    "    list_2.append(len(i))\n",
    "print(list_2)"
   ]
  },
  {
   "cell_type": "code",
   "execution_count": 19,
   "id": "1c5aec04",
   "metadata": {},
   "outputs": [
    {
     "name": "stdout",
     "output_type": "stream",
     "text": [
      "[11, 5, 4, 6, 3]\n"
     ]
    }
   ],
   "source": [
    "list_1 = [\"Automobiles\",\"Honda\", \"Benz\", \"Maruti\",\"Kia\"]\n",
    "\n",
    "list_2 = [len(i) for i in list_1]\n",
    "\n",
    "print(list_2)"
   ]
  },
  {
   "cell_type": "code",
   "execution_count": 22,
   "id": "a7cd59c2",
   "metadata": {},
   "outputs": [
    {
     "name": "stdout",
     "output_type": "stream",
     "text": [
      "{'Automobiles': 11, 'Honda': 5, 'Benz': 4, 'Maruti': 6, 'Kia': 3}\n"
     ]
    }
   ],
   "source": [
    "list_1 = [\"Automobiles\",\"Honda\", \"Benz\", \"Maruti\",\"Kia\"]\n",
    "\n",
    "d = {i: len(i) for i in list_1}\n",
    "\n",
    "print(d)"
   ]
  },
  {
   "cell_type": "markdown",
   "id": "ebc8f80f",
   "metadata": {},
   "source": [
    "### FUNCTIONS\n",
    " - Named sequence of statements that performs some operations.\n",
    " - Two attributes are needed: Function name and argument\n",
    " - User defined functioned: Users defined by developers using keyword **def**\n",
    " - def function_name():"
   ]
  },
  {
   "cell_type": "markdown",
   "id": "08105c92",
   "metadata": {},
   "source": [
    "### Lambda Function\n",
    " - Small anonymous functions to make life easier for developers.\n",
    " - It can take many arguments but only one expression.\n",
    " - It reduces the number of lines in a code file.\n",
    " - lambda arguments : expression"
   ]
  },
  {
   "cell_type": "code",
   "execution_count": 2,
   "id": "a4beb308",
   "metadata": {},
   "outputs": [],
   "source": [
    "# Even or Odd\n",
    "\n",
    "def even_odd(num):\n",
    "    if num % 2 == 0:\n",
    "        print (num, \"This is an even number\")\n",
    "    else:\n",
    "        print (num, \"This is an odd number\")"
   ]
  },
  {
   "cell_type": "code",
   "execution_count": 3,
   "id": "3f9eccd3",
   "metadata": {},
   "outputs": [
    {
     "name": "stdout",
     "output_type": "stream",
     "text": [
      "10 This is an even number\n"
     ]
    }
   ],
   "source": [
    "even_odd(10)"
   ]
  },
  {
   "cell_type": "code",
   "execution_count": null,
   "id": "eff7e611",
   "metadata": {},
   "outputs": [],
   "source": [
    "# Factorial of a number\n",
    "# 4! = 4*3*2*1 = 24\n",
    "# n! = n*(n-1)*(n-2)*...*1\n",
    "def fact_number(n):\n",
    "    fact = 1\n",
    "    for i in range(1, n+1):\n",
    "        fact = fact * i\n",
    "    return fact"
   ]
  },
  {
   "cell_type": "code",
   "execution_count": 10,
   "id": "b89fe7fa",
   "metadata": {},
   "outputs": [
    {
     "data": {
      "text/plain": [
       "720"
      ]
     },
     "execution_count": 10,
     "metadata": {},
     "output_type": "execute_result"
    }
   ],
   "source": [
    "fact_number(6)"
   ]
  },
  {
   "cell_type": "markdown",
   "id": "f9aa3e8e",
   "metadata": {},
   "source": [
    "#### Sum of all natural numbers till the number provided\n",
    "\n",
    "##### In other terms, the cummulative function"
   ]
  },
  {
   "cell_type": "code",
   "execution_count": 12,
   "id": "b3f9809c",
   "metadata": {},
   "outputs": [],
   "source": [
    "def sum_natural(n):\n",
    "    num = 0\n",
    "\n",
    "    for i in range(1,n+1):\n",
    "        num = num+i\n",
    "    return num"
   ]
  },
  {
   "cell_type": "code",
   "execution_count": 14,
   "id": "0b960d6e",
   "metadata": {},
   "outputs": [
    {
     "data": {
      "text/plain": [
       "6"
      ]
     },
     "execution_count": 14,
     "metadata": {},
     "output_type": "execute_result"
    }
   ],
   "source": [
    "sum_natural(3)"
   ]
  },
  {
   "cell_type": "markdown",
   "id": "81ea8afb",
   "metadata": {},
   "source": [
    "#### LAMBDA FUNCTIONS"
   ]
  },
  {
   "cell_type": "markdown",
   "id": "d453511c",
   "metadata": {},
   "source": [
    "lambda function argument: expressions"
   ]
  },
  {
   "cell_type": "code",
   "execution_count": 1,
   "id": "52ca28cb",
   "metadata": {},
   "outputs": [],
   "source": [
    "x = lambda a: a + 10"
   ]
  },
  {
   "cell_type": "code",
   "execution_count": 2,
   "id": "2573fdf1",
   "metadata": {},
   "outputs": [
    {
     "name": "stdout",
     "output_type": "stream",
     "text": [
      "15\n"
     ]
    }
   ],
   "source": [
    "print(x(5))"
   ]
  },
  {
   "cell_type": "markdown",
   "id": "b6d26d30",
   "metadata": {},
   "source": [
    "Create lambda function that checks a number is even or odd"
   ]
  },
  {
   "cell_type": "code",
   "execution_count": null,
   "id": "c9116f50",
   "metadata": {},
   "outputs": [],
   "source": [
    "# Even or Odd\n",
    "\n",
    "def even_odd(num):\n",
    "    if num % 2 == 0:\n",
    "        print (num, \"This is an even number\")\n",
    "    else:\n",
    "        print (num, \"This is an odd number\")"
   ]
  },
  {
   "cell_type": "code",
   "execution_count": 5,
   "id": "6d9245e0",
   "metadata": {},
   "outputs": [],
   "source": [
    "x = lambda a: \"This is an even number\" if a % 2 == 0 else \"This is an odd number\""
   ]
  },
  {
   "cell_type": "code",
   "execution_count": 6,
   "id": "7a9e4dd9",
   "metadata": {},
   "outputs": [
    {
     "name": "stdout",
     "output_type": "stream",
     "text": [
      "This is an odd number\n"
     ]
    }
   ],
   "source": [
    "print(x(101))"
   ]
  },
  {
   "cell_type": "markdown",
   "id": "f1bbb0f8",
   "metadata": {},
   "source": [
    "Create a Lambda function that adds two integers"
   ]
  },
  {
   "cell_type": "code",
   "execution_count": 7,
   "id": "c907bb5d",
   "metadata": {},
   "outputs": [],
   "source": [
    "x = lambda a,b: a+b"
   ]
  },
  {
   "cell_type": "code",
   "execution_count": 8,
   "id": "c6e4d588",
   "metadata": {},
   "outputs": [
    {
     "name": "stdout",
     "output_type": "stream",
     "text": [
      "9\n"
     ]
    }
   ],
   "source": [
    "print(x(4,5))"
   ]
  },
  {
   "cell_type": "code",
   "execution_count": 11,
   "id": "7dc69da4",
   "metadata": {},
   "outputs": [],
   "source": [
    "x = lambda a,b: a*b"
   ]
  },
  {
   "cell_type": "code",
   "execution_count": 12,
   "id": "649dbf9c",
   "metadata": {},
   "outputs": [
    {
     "name": "stdout",
     "output_type": "stream",
     "text": [
      "10\n"
     ]
    }
   ],
   "source": [
    "print(x(2,5))"
   ]
  },
  {
   "cell_type": "markdown",
   "id": "13940209",
   "metadata": {},
   "source": [
    "### MAPS, REDUCE & FILTER"
   ]
  },
  {
   "cell_type": "markdown",
   "id": "2f5cd327",
   "metadata": {},
   "source": [
    "- Utility function - maps a collection object based on certain functionaity.\n",
    "- It removes the need for loops and saves on space and computational time.\n",
    "\n"
   ]
  },
  {
   "cell_type": "markdown",
   "id": "a18db40c",
   "metadata": {},
   "source": [
    "#### MAP"
   ]
  },
  {
   "cell_type": "markdown",
   "id": "003f64ea",
   "metadata": {},
   "source": [
    "- Expression is as follows: map(function, iterable object)\n",
    "- Example:\n",
    "```python\n",
    "firstname = [\"Adele, Bob, Carrie, John\"]\n",
    "# map the list to obtain the names in uppercase\n",
    "list(map(lambda x: x.upper(),firstname))\n",
    "```"
   ]
  },
  {
   "cell_type": "markdown",
   "id": "cf9cb318",
   "metadata": {},
   "source": [
    "##### Filter \n",
    "- Similar function but it requires the function to look for a condition and then returns only those elements."
   ]
  },
  {
   "cell_type": "markdown",
   "id": "170437ed",
   "metadata": {},
   "source": [
    "Area of a circle function"
   ]
  },
  {
   "cell_type": "code",
   "execution_count": 27,
   "id": "ae95ba56",
   "metadata": {},
   "outputs": [],
   "source": [
    "# Traditional method of doing the area of a circle\n",
    "import math\n",
    "def area(r):\n",
    "    return math.pi *(r**2)\n",
    "\n",
    "radii = [7,11,35,27]\n",
    "\n",
    "areas = []\n",
    "\n",
    "for r in radii:\n",
    "    a = area(r)\n",
    "    areas.append(a)"
   ]
  },
  {
   "cell_type": "code",
   "execution_count": 28,
   "id": "bb4304b0",
   "metadata": {},
   "outputs": [
    {
     "name": "stdout",
     "output_type": "stream",
     "text": [
      "[153.93804002589985, 380.132711084365, 3848.4510006474966, 2290.221044466959]\n"
     ]
    }
   ],
   "source": [
    "print (areas)"
   ]
  },
  {
   "cell_type": "markdown",
   "id": "1c80c62f",
   "metadata": {},
   "source": [
    "Using map (f, iterable)"
   ]
  },
  {
   "cell_type": "markdown",
   "id": "a6f3c334",
   "metadata": {},
   "source": [
    "Instead of a for loop, use map to avoid space uptake"
   ]
  },
  {
   "cell_type": "code",
   "execution_count": 29,
   "id": "7fa317ca",
   "metadata": {},
   "outputs": [
    {
     "data": {
      "text/plain": [
       "<map at 0x21db5b72200>"
      ]
     },
     "execution_count": 29,
     "metadata": {},
     "output_type": "execute_result"
    }
   ],
   "source": [
    "map(area,radii)\n"
   ]
  },
  {
   "cell_type": "code",
   "execution_count": 30,
   "id": "68d6a4b0",
   "metadata": {},
   "outputs": [
    {
     "data": {
      "text/plain": [
       "[153.93804002589985, 380.132711084365, 3848.4510006474966, 2290.221044466959]"
      ]
     },
     "execution_count": 30,
     "metadata": {},
     "output_type": "execute_result"
    }
   ],
   "source": [
    "list(map(area,radii))"
   ]
  },
  {
   "cell_type": "markdown",
   "id": "fc116bac",
   "metadata": {},
   "source": [
    "Convert Celsius scale to Farheneit\n",
    "\n",
    "F = 9/5*c + 32"
   ]
  },
  {
   "cell_type": "code",
   "execution_count": 34,
   "id": "fff0ad66",
   "metadata": {},
   "outputs": [],
   "source": [
    "temps = [(\"Mumbai\", 35),(\"Berlin\",12),(\"Tokyo\",25),(\"Hong Kong\",31),(\"sydney\",30)]\n"
   ]
  },
  {
   "cell_type": "code",
   "execution_count": 35,
   "id": "0a08cfcf",
   "metadata": {},
   "outputs": [
    {
     "data": {
      "text/plain": [
       "list"
      ]
     },
     "execution_count": 35,
     "metadata": {},
     "output_type": "execute_result"
    }
   ],
   "source": [
    "type(temps)"
   ]
  },
  {
   "cell_type": "code",
   "execution_count": 36,
   "id": "1a4d96a8",
   "metadata": {},
   "outputs": [
    {
     "data": {
      "text/plain": [
       "5"
      ]
     },
     "execution_count": 36,
     "metadata": {},
     "output_type": "execute_result"
    }
   ],
   "source": [
    "len(temps)"
   ]
  },
  {
   "cell_type": "code",
   "execution_count": 47,
   "id": "fbd34fa7",
   "metadata": {},
   "outputs": [],
   "source": [
    "cel_to_f = lambda data: (data[0],(9/5)*data[1]+32)"
   ]
  },
  {
   "cell_type": "code",
   "execution_count": 48,
   "id": "f6e1b91c",
   "metadata": {},
   "outputs": [
    {
     "data": {
      "text/plain": [
       "<map at 0x21db5d89f90>"
      ]
     },
     "execution_count": 48,
     "metadata": {},
     "output_type": "execute_result"
    }
   ],
   "source": [
    "map(cel_to_f,temps)"
   ]
  },
  {
   "cell_type": "code",
   "execution_count": 49,
   "id": "30f8fd65",
   "metadata": {},
   "outputs": [
    {
     "data": {
      "text/plain": [
       "[('Mumbai', 95.0),\n",
       " ('Berlin', 53.6),\n",
       " ('Tokyo', 77.0),\n",
       " ('Hong Kong', 87.80000000000001),\n",
       " ('sydney', 86.0)]"
      ]
     },
     "execution_count": 49,
     "metadata": {},
     "output_type": "execute_result"
    }
   ],
   "source": [
    "list(map(cel_to_f,temps))"
   ]
  },
  {
   "cell_type": "markdown",
   "id": "622ff678",
   "metadata": {},
   "source": [
    "FILTER FUNCTION - filters out the data\n",
    "\n",
    "rep --> filter(f,data)"
   ]
  },
  {
   "cell_type": "code",
   "execution_count": 53,
   "id": "f6dca6a2",
   "metadata": {},
   "outputs": [],
   "source": [
    "import statistics\n",
    "data = [1,2,3,4,5,9,12,4,2,9]\n",
    "\n"
   ]
  },
  {
   "cell_type": "code",
   "execution_count": 54,
   "id": "23c80103",
   "metadata": {},
   "outputs": [
    {
     "name": "stdout",
     "output_type": "stream",
     "text": [
      "5.1\n"
     ]
    }
   ],
   "source": [
    "avg = statistics.mean(data)\n",
    "print(avg)"
   ]
  },
  {
   "cell_type": "code",
   "execution_count": 57,
   "id": "51e076f9",
   "metadata": {},
   "outputs": [
    {
     "data": {
      "text/plain": [
       "<filter at 0x21db5e151b0>"
      ]
     },
     "execution_count": 57,
     "metadata": {},
     "output_type": "execute_result"
    }
   ],
   "source": [
    "filter(lambda x: x > avg, data)\n"
   ]
  },
  {
   "cell_type": "code",
   "execution_count": 58,
   "id": "2dbc877e",
   "metadata": {},
   "outputs": [
    {
     "data": {
      "text/plain": [
       "[9, 12, 9]"
      ]
     },
     "execution_count": 58,
     "metadata": {},
     "output_type": "execute_result"
    }
   ],
   "source": [
    "list(filter(lambda x: x > avg, data))"
   ]
  },
  {
   "cell_type": "code",
   "execution_count": 59,
   "id": "a4ef05f2",
   "metadata": {},
   "outputs": [
    {
     "data": {
      "text/plain": [
       "[153.93804002589985, 380.132711084365, 3848.4510006474966, 2290.221044466959]"
      ]
     },
     "execution_count": 59,
     "metadata": {},
     "output_type": "execute_result"
    }
   ],
   "source": [
    "list(map(area,radii))"
   ]
  },
  {
   "cell_type": "code",
   "execution_count": 60,
   "id": "dd71a8f3",
   "metadata": {},
   "outputs": [
    {
     "data": {
      "text/plain": [
       "<filter at 0x21db5e0fe80>"
      ]
     },
     "execution_count": 60,
     "metadata": {},
     "output_type": "execute_result"
    }
   ],
   "source": [
    "filter(lambda x: x > 10, areas)"
   ]
  },
  {
   "cell_type": "code",
   "execution_count": 62,
   "id": "fc8d1629",
   "metadata": {},
   "outputs": [
    {
     "data": {
      "text/plain": [
       "[153.93804002589985, 380.132711084365, 3848.4510006474966, 2290.221044466959]"
      ]
     },
     "execution_count": 62,
     "metadata": {},
     "output_type": "execute_result"
    }
   ],
   "source": [
    "list(filter(lambda x: x >avg, areas))"
   ]
  },
  {
   "cell_type": "code",
   "execution_count": 65,
   "id": "6cd8b11a",
   "metadata": {},
   "outputs": [],
   "source": [
    "name = [\"Satyajit\", \"Neha\", 0, 0, 0, \"\", \"Namrata\"]"
   ]
  },
  {
   "cell_type": "code",
   "execution_count": 69,
   "id": "d9c33491",
   "metadata": {},
   "outputs": [
    {
     "data": {
      "text/plain": [
       "<filter at 0x21db5e15120>"
      ]
     },
     "execution_count": 69,
     "metadata": {},
     "output_type": "execute_result"
    }
   ],
   "source": [
    "filter (None,name)"
   ]
  },
  {
   "cell_type": "code",
   "execution_count": 67,
   "id": "d677e624",
   "metadata": {},
   "outputs": [
    {
     "data": {
      "text/plain": [
       "['Satyajit', 'Neha', 'Namrata']"
      ]
     },
     "execution_count": 67,
     "metadata": {},
     "output_type": "execute_result"
    }
   ],
   "source": [
    "list(filter(None, name))"
   ]
  },
  {
   "cell_type": "markdown",
   "id": "0db57b78",
   "metadata": {},
   "source": [
    "- The filter function helps in getting rid of the null/Nan Values\n",
    "- If you know 0 is going to be of value, do not use a filter function."
   ]
  },
  {
   "cell_type": "markdown",
   "id": "3203b91c",
   "metadata": {},
   "source": [
    "Reduce Function --> Deprecated \n",
    "\n",
    "reduce(f,data)"
   ]
  },
  {
   "cell_type": "code",
   "execution_count": 73,
   "id": "6a5b165b",
   "metadata": {},
   "outputs": [],
   "source": [
    "from functools import reduce"
   ]
  },
  {
   "cell_type": "code",
   "execution_count": null,
   "id": "59ae8133",
   "metadata": {},
   "outputs": [],
   "source": [
    "# Multiply all the items in the list"
   ]
  },
  {
   "cell_type": "code",
   "execution_count": 74,
   "id": "d302ac23",
   "metadata": {},
   "outputs": [],
   "source": [
    "data = [1, 2, 3, 4, 5]"
   ]
  },
  {
   "cell_type": "code",
   "execution_count": 75,
   "id": "a1f6a679",
   "metadata": {},
   "outputs": [],
   "source": [
    "multiplier = lambda x, y : x * y"
   ]
  },
  {
   "cell_type": "code",
   "execution_count": 76,
   "id": "a7a44bc2",
   "metadata": {},
   "outputs": [
    {
     "data": {
      "text/plain": [
       "120"
      ]
     },
     "execution_count": 76,
     "metadata": {},
     "output_type": "execute_result"
    }
   ],
   "source": [
    "reduce (multiplier, data)"
   ]
  },
  {
   "cell_type": "markdown",
   "id": "308b08ae",
   "metadata": {},
   "source": [
    "###### The traditional way of using reduce function\n",
    "```python \n",
    "data = [1, 2, 3, 4, 5]\n",
    "\n",
    "prev = data[0]\n",
    "\n",
    "for i in data:\n",
    "    i = i*prev\n",
    "    prev = i\n",
    "print(i)\n",
    "```"
   ]
  },
  {
   "cell_type": "code",
   "execution_count": 77,
   "id": "d0a57606",
   "metadata": {},
   "outputs": [],
   "source": [
    "# Sum all the items in a list\n",
    "\n",
    "data = [1, 2, 3, 4, 5]"
   ]
  },
  {
   "cell_type": "code",
   "execution_count": 78,
   "id": "6ad99170",
   "metadata": {},
   "outputs": [],
   "source": [
    "sumop = lambda x,y : x + y"
   ]
  },
  {
   "cell_type": "code",
   "execution_count": 80,
   "id": "2f56b74a",
   "metadata": {},
   "outputs": [
    {
     "data": {
      "text/plain": [
       "15"
      ]
     },
     "execution_count": 80,
     "metadata": {},
     "output_type": "execute_result"
    }
   ],
   "source": [
    "reduce(sumop, data)"
   ]
  },
  {
   "cell_type": "markdown",
   "id": "ef212887",
   "metadata": {},
   "source": [
    "### FILE HANDLING\n",
    "Basic Operations and methods: open(), read(), close()"
   ]
  },
  {
   "cell_type": "markdown",
   "id": "51c32077",
   "metadata": {},
   "source": [
    "File object = open(file_name [,access_mode],[buffering])\n",
    " - "
   ]
  },
  {
   "cell_type": "code",
   "execution_count": null,
   "id": "7d372ecd",
   "metadata": {},
   "outputs": [],
   "source": []
  }
 ],
 "metadata": {
  "kernelspec": {
   "display_name": "Python 3",
   "language": "python",
   "name": "python3"
  },
  "language_info": {
   "codemirror_mode": {
    "name": "ipython",
    "version": 3
   },
   "file_extension": ".py",
   "mimetype": "text/x-python",
   "name": "python",
   "nbconvert_exporter": "python",
   "pygments_lexer": "ipython3",
   "version": "3.13.2"
  }
 },
 "nbformat": 4,
 "nbformat_minor": 5
}
