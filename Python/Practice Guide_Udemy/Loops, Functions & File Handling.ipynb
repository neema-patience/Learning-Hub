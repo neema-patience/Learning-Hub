{
 "cells": [
  {
   "cell_type": "markdown",
   "id": "5d602527",
   "metadata": {},
   "source": [
    "<u> Loops </u>\n",
    " - Used for repetition\n",
    " Iterable: An object that can be iterated over e.g. _Lists, Tuples, Dictionaries, Strings, Sets_\n",
    " - Iterator: variable that goes through each element in the iterable\n",
    "\n",
    "<u> Types of Loops </u>\n",
    " 1. For Loops\n",
    " 2. While loops"
   ]
  },
  {
   "cell_type": "code",
   "execution_count": 2,
   "id": "c852b65e",
   "metadata": {},
   "outputs": [
    {
     "name": "stdout",
     "output_type": "stream",
     "text": [
      "1\n",
      "2\n",
      "3\n",
      "4\n",
      "Loop completed successfully.\n"
     ]
    }
   ],
   "source": [
    "# For Loop example\n",
    "for i in range(1, 5):\n",
    "    print(i)\n",
    "else:\n",
    "    print(\"Loop completed successfully.\")"
   ]
  },
  {
   "cell_type": "markdown",
   "id": "ec9486d8",
   "metadata": {},
   "source": [
    "While Loop example"
   ]
  },
  {
   "cell_type": "code",
   "execution_count": null,
   "id": "673cdff6",
   "metadata": {},
   "outputs": [
    {
     "name": "stdout",
     "output_type": "stream",
     "text": [
      "1\n",
      "2\n",
      "3\n",
      "4\n"
     ]
    }
   ],
   "source": [
    "# While condition == True:\n",
    "\n",
    "i=1\n",
    "while i<5:\n",
    "    print(i)\n",
    "    i += 1\n"
   ]
  },
  {
   "cell_type": "markdown",
   "id": "7961f1b0",
   "metadata": {},
   "source": [
    "Checking if a number is even or odd"
   ]
  },
  {
   "cell_type": "code",
   "execution_count": null,
   "id": "2a7a137d",
   "metadata": {},
   "outputs": [
    {
     "name": "stdout",
     "output_type": "stream",
     "text": [
      "101 is odd\n"
     ]
    }
   ],
   "source": [
    "x = 101\n",
    "\n",
    "if x % 2 == 0:\n",
    "    print(x, \"is an even\")\n",
    "else:\n",
    "    print(x, \"is an odd\")"
   ]
  },
  {
   "cell_type": "markdown",
   "id": "62972d9c",
   "metadata": {},
   "source": [
    "Input from user checking if a number is even or odd"
   ]
  },
  {
   "cell_type": "code",
   "execution_count": null,
   "id": "708d3173",
   "metadata": {},
   "outputs": [
    {
     "name": "stdout",
     "output_type": "stream",
     "text": [
      "205 is an odd\n"
     ]
    }
   ],
   "source": [
    "x = int(input(\"Enter a number: \"))\n",
    "if x % 2 == 0:\n",
    "    print(x, \"is an even\")\n",
    "else:\n",
    "    print(x, \"is an odd\")\n",
    "# Checking if a number is prime\n"
   ]
  },
  {
   "cell_type": "code",
   "execution_count": 11,
   "id": "ed5ba99f",
   "metadata": {},
   "outputs": [
    {
     "name": "stdout",
     "output_type": "stream",
     "text": [
      "Sorry! You are not allowed to enter the party\n"
     ]
    }
   ],
   "source": [
    "# Allow: greater than 18 & less than 50 years of age\n",
    "\n",
    "x = int(input(\"Enter your age: \"))\n",
    "if x < 18 or x > 50:\n",
    "    print(\"Sorry! You are not allowed to enter the party\")\n",
    "else:\n",
    "    print(\"You are allowed to enter the party\")"
   ]
  },
  {
   "cell_type": "markdown",
   "id": "6f11f35a",
   "metadata": {},
   "source": [
    "Program to provide discounts/offers"
   ]
  },
  {
   "cell_type": "code",
   "execution_count": null,
   "id": "8b3c0818",
   "metadata": {},
   "outputs": [
    {
     "ename": "ValueError",
     "evalue": "invalid literal for int() with base 10: ''",
     "output_type": "error",
     "traceback": [
      "\u001b[31m---------------------------------------------------------------------------\u001b[39m",
      "\u001b[31mValueError\u001b[39m                                Traceback (most recent call last)",
      "\u001b[36mCell\u001b[39m\u001b[36m \u001b[39m\u001b[32mIn[1]\u001b[39m\u001b[32m, line 1\u001b[39m\n\u001b[32m----> \u001b[39m\u001b[32m1\u001b[39m shopping_amt = \u001b[38;5;28;43mint\u001b[39;49m\u001b[43m(\u001b[49m\u001b[38;5;28;43minput\u001b[39;49m\u001b[43m(\u001b[49m\u001b[33;43m\"\u001b[39;49m\u001b[33;43mEnter your billed amount: \u001b[39;49m\u001b[33;43m\"\u001b[39;49m\u001b[43m)\u001b[49m\u001b[43m)\u001b[49m\n\u001b[32m      2\u001b[39m \u001b[38;5;28;01mif\u001b[39;00m shopping_amt >= \u001b[32m5000\u001b[39m:\n\u001b[32m      3\u001b[39m     \u001b[38;5;28mprint\u001b[39m(\u001b[33m\"\u001b[39m\u001b[33mYou have won a voucher of 1000$\u001b[39m\u001b[33m\"\u001b[39m)\n",
      "\u001b[31mValueError\u001b[39m: invalid literal for int() with base 10: ''"
     ]
    }
   ],
   "source": [
    "shopping_amt = int(input(\"Enter your billed amount\"))\n",
    "if shopping_amt >= 5000:\n",
    "    print(\"You have won a voucher of 1000$\")\n",
    "elif shopping_amt >= 25000:\n",
    "    print(\"You have won a voucher of 500$\")\n",
    "else: \n",
    "  print(\"OOPS! No vouchers\")  \n"
   ]
  }
 ],
 "metadata": {
  "kernelspec": {
   "display_name": "Python 3",
   "language": "python",
   "name": "python3"
  },
  "language_info": {
   "codemirror_mode": {
    "name": "ipython",
    "version": 3
   },
   "file_extension": ".py",
   "mimetype": "text/x-python",
   "name": "python",
   "nbconvert_exporter": "python",
   "pygments_lexer": "ipython3",
   "version": "3.13.2"
  }
 },
 "nbformat": 4,
 "nbformat_minor": 5
}
