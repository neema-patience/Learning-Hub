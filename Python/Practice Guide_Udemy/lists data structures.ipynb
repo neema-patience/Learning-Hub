{
 "cells": [
  {
   "cell_type": "code",
   "execution_count": 20,
   "id": "a19eed4a",
   "metadata": {},
   "outputs": [],
   "source": [
    "cust_info=['Patience',23,'Kenya',15000, 11500, '450MB']"
   ]
  },
  {
   "cell_type": "code",
   "execution_count": 21,
   "id": "1015099e",
   "metadata": {},
   "outputs": [
    {
     "data": {
      "text/plain": [
       "list"
      ]
     },
     "execution_count": 21,
     "metadata": {},
     "output_type": "execute_result"
    }
   ],
   "source": [
    "type(cust_info)"
   ]
  },
  {
   "cell_type": "markdown",
   "id": "6b504c43",
   "metadata": {},
   "source": [
    "This is a normal list creation where the elements are a combination of integers and strings."
   ]
  },
  {
   "cell_type": "code",
   "execution_count": 22,
   "id": "7732ee8d",
   "metadata": {},
   "outputs": [],
   "source": [
    "cust_info_new=('Patience',23,'Kenya',15000,11500,'450MB')"
   ]
  },
  {
   "cell_type": "code",
   "execution_count": 23,
   "id": "eca6164e",
   "metadata": {},
   "outputs": [
    {
     "data": {
      "text/plain": [
       "tuple"
      ]
     },
     "execution_count": 23,
     "metadata": {},
     "output_type": "execute_result"
    }
   ],
   "source": [
    "type(cust_info_new)"
   ]
  },
  {
   "cell_type": "markdown",
   "id": "668a98ae",
   "metadata": {},
   "source": [
    "This is a tuple and its a special type of list created using parenthesis. It is used when the elements within the list are inteneded to not change constantly.\n"
   ]
  },
  {
   "cell_type": "code",
   "execution_count": 24,
   "id": "1b6647a5",
   "metadata": {},
   "outputs": [
    {
     "data": {
      "text/plain": [
       "5"
      ]
     },
     "execution_count": 24,
     "metadata": {},
     "output_type": "execute_result"
    }
   ],
   "source": [
    "#Nested list - A list within a list. Check length of list using the function _len_\n",
    "list1=['Kenya','Dar es Salaam', 5, 10,['China','Hong Kong']]\n",
    "len(list1)"
   ]
  },
  {
   "cell_type": "code",
   "execution_count": 25,
   "id": "47d93d4f",
   "metadata": {},
   "outputs": [
    {
     "data": {
      "text/plain": [
       "'Dar es Salaam'"
      ]
     },
     "execution_count": 25,
     "metadata": {},
     "output_type": "execute_result"
    }
   ],
   "source": [
    "#Indexing - Check the item in the lists using the following form;\n",
    "\n",
    "list1[1]"
   ]
  },
  {
   "cell_type": "code",
   "execution_count": 26,
   "id": "0a92395b",
   "metadata": {},
   "outputs": [
    {
     "data": {
      "text/plain": [
       "'Hong Kong'"
      ]
     },
     "execution_count": 26,
     "metadata": {},
     "output_type": "execute_result"
    }
   ],
   "source": [
    "#Slicing - Check the item in the lists using the following form;\n",
    "\n",
    "list1[-1][1]"
   ]
  },
  {
   "cell_type": "code",
   "execution_count": 27,
   "id": "d7ac7d6e",
   "metadata": {},
   "outputs": [
    {
     "data": {
      "text/plain": [
       "[1, 2, 3, 4, 5, 6, 7, 8]"
      ]
     },
     "execution_count": 27,
     "metadata": {},
     "output_type": "execute_result"
    }
   ],
   "source": [
    "#List Concantination \n",
    "\n",
    "list1=[1,2,3,4]\n",
    "list2=[5,6,7,8]\n",
    "\n",
    "list3 = list1 + list2\n",
    "list3"
   ]
  },
  {
   "cell_type": "code",
   "execution_count": 28,
   "id": "3e65c00a",
   "metadata": {},
   "outputs": [
    {
     "name": "stdout",
     "output_type": "stream",
     "text": [
      "True\n",
      "False\n"
     ]
    }
   ],
   "source": [
    "#Membership in lists & tuples - Check if the element requested is within the list, use the following form\n",
    "\n",
    "list4 = [1,2,3,4]\n",
    "print(1 in list4)\n",
    "print(5 in list4)"
   ]
  },
  {
   "cell_type": "markdown",
   "id": "aec87f86",
   "metadata": {},
   "source": [
    "# Let's talk about the mutability of lists "
   ]
  },
  {
   "cell_type": "code",
   "execution_count": 29,
   "id": "fffcd4a0",
   "metadata": {},
   "outputs": [
    {
     "name": "stdout",
     "output_type": "stream",
     "text": [
      "3\n"
     ]
    }
   ],
   "source": [
    "# Finidng the index of an element within a list, use index_of_item = listname.index('item'), print(index_of_item)\n",
    "list5 = ['Maths', 'Physics', 'Chemistry', 'Biology']\n",
    "index_of_biology = list5.index('Biology')\n",
    "print(index_of_biology)"
   ]
  },
  {
   "cell_type": "code",
   "execution_count": 30,
   "id": "2efd6ce7",
   "metadata": {},
   "outputs": [
    {
     "data": {
      "text/plain": [
       "['Maths', 'Physics', 'Chemistry', 'Computer Science']"
      ]
     },
     "execution_count": 30,
     "metadata": {},
     "output_type": "execute_result"
    }
   ],
   "source": [
    "# Modifying item within a common list\n",
    "list6 = ['Maths', 'Physics', 'Chemistry', 'Biology']\n",
    "list6[-1] #Or list6[3]\n",
    "list6[3]= 'Computer Science'\n",
    "list6"
   ]
  },
  {
   "cell_type": "code",
   "execution_count": 31,
   "id": "2c966042",
   "metadata": {},
   "outputs": [
    {
     "data": {
      "text/plain": [
       "['Maths',\n",
       " 'Physics',\n",
       " 'Chemistry',\n",
       " 'Computer Science',\n",
       " 'Biology',\n",
       " 'History',\n",
       " 'Geography']"
      ]
     },
     "execution_count": 31,
     "metadata": {},
     "output_type": "execute_result"
    }
   ],
   "source": [
    "#extend() function --> It extends the lists\n",
    "\n",
    "list6 = ['Maths', 'Physics', 'Chemistry', 'Computer Science']\n",
    "list6.extend(['Biology', 'History', 'Geography'])\n",
    "len(list6)\n",
    "list6\n"
   ]
  },
  {
   "cell_type": "code",
   "execution_count": 32,
   "id": "abe3f828",
   "metadata": {},
   "outputs": [
    {
     "ename": "SyntaxError",
     "evalue": "'break' outside loop (380504874.py, line 4)",
     "output_type": "error",
     "traceback": [
      "  \u001b[36mCell\u001b[39m\u001b[36m \u001b[39m\u001b[32mIn[32]\u001b[39m\u001b[32m, line 4\u001b[39m\n\u001b[31m    \u001b[39m\u001b[31mbreak\u001b[39m\n    ^\n\u001b[31mSyntaxError\u001b[39m\u001b[31m:\u001b[39m 'break' outside loop\n"
     ]
    }
   ],
   "source": [
    "#list.append([]) --> Adds a list within the list(nested lists) --> If you keep running the same code, you will end up in a lopp where the list will keep appending\n",
    "if ['English','Social Studies'] not in list6:\n",
    "    list6.append(['English','Social Studies'])\n",
    "    break\n",
    "(list6)"
   ]
  },
  {
   "cell_type": "code",
   "execution_count": null,
   "id": "d46d0278",
   "metadata": {},
   "outputs": [
    {
     "data": {
      "text/plain": [
       "['Maths',\n",
       " 'Physics',\n",
       " 'Chemistry',\n",
       " 'Computer Science',\n",
       " 'Biology',\n",
       " 'History',\n",
       " 'Geography']"
      ]
     },
     "execution_count": 55,
     "metadata": {},
     "output_type": "execute_result"
    }
   ],
   "source": [
    "# To get out of the append loop, use pop out forthe excess to be removed and then append once\n",
    "while list6 and list6[-1] == ['English', 'Social Studies']:\n",
    "    list6.pop()\n",
    "list6\n"
   ]
  },
  {
   "cell_type": "code",
   "execution_count": null,
   "id": "8d520ea4",
   "metadata": {},
   "outputs": [
    {
     "name": "stdout",
     "output_type": "stream",
     "text": [
      "['Maths', 'Physics', 'Chemistry', 'Biology', ['English', 'Social Studies']]\n"
     ]
    }
   ],
   "source": [
    "#list.append([]) --> Adds a list within the list(nested lists). Use break to exit the loop\n",
    "list6 = ['Maths', 'Physics', 'Chemistry', 'Biology']\n",
    "\n",
    "while True:\n",
    "    if ['English', 'Social Studies'] not in list6:\n",
    "        list6.append(['English', 'Social Studies'])\n",
    "    else:break\n",
    "\n",
    "print(list6)\n"
   ]
  },
  {
   "cell_type": "code",
   "execution_count": null,
   "id": "f822bb8b",
   "metadata": {},
   "outputs": [
    {
     "data": {
      "text/plain": [
       "['Physics', 'Chemistry', 'Biology', ['English', 'Social Studies']]"
      ]
     },
     "execution_count": 57,
     "metadata": {},
     "output_type": "execute_result"
    }
   ],
   "source": [
    "# del command --> Delete attributes from list. Maths, at index 0, will be deleted\n",
    "\n",
    "list6 = ['Maths', 'Physics', 'Chemistry', 'Biology', ['English', 'Social Studies']]\n",
    "\n",
    "del list6[0]\n",
    "list6"
   ]
  },
  {
   "cell_type": "code",
   "execution_count": null,
   "id": "02f63b69",
   "metadata": {},
   "outputs": [
    {
     "data": {
      "text/plain": [
       "['Physics', 'Chemistry', 'Biology', ['English', 'Social Studies']]"
      ]
     },
     "execution_count": 6,
     "metadata": {},
     "output_type": "execute_result"
    }
   ],
   "source": [
    "# pop()--> This is the default for the last element to be removed from the list. \n",
    "\n",
    "list6 = ['Maths', 'Physics', 'Chemistry', 'Biology', ['English', 'Social Studies']]\n",
    "list6.pop() \n",
    "list6"
   ]
  },
  {
   "cell_type": "markdown",
   "id": "4a5abfe6",
   "metadata": {},
   "source": [
    "# LIsts Vs Tuples\n",
    "\n",
    "## Lists\n",
    "1. Items are surrounded by square brackets[]\n",
    "2. Lists are mutable in nature\n",
    "3. >40 methods in lists\n",
    "4. Constant changes in items should be used in lists\n",
    "5. Objects in lists cannot be used as keys for dictionaries.\n",
    "\n",
    "## Tuples\n",
    "1. Items are surrounded by round brackests ()\n",
    "2. Immutable in nature\n",
    "3. 30-35 methods \n",
    "4. Fixed content should go for tuples\n",
    "5. Objects can be used for dictionaries\n"
   ]
  },
  {
   "cell_type": "code",
   "execution_count": null,
   "id": "16a3f2f5",
   "metadata": {},
   "outputs": [
    {
     "data": {
      "text/plain": [
       "tuple"
      ]
     },
     "execution_count": 9,
     "metadata": {},
     "output_type": "execute_result"
    }
   ],
   "source": [
    "t = (1,2,3,4)\n",
    "\n",
    "t2 = 1,2,3,4,5,6,7,8\n",
    "\n",
    "type(t2)\n",
    "\n",
    "\n",
    "# Tuples are immutable, meaning they cannot be changed."
   ]
  },
  {
   "cell_type": "code",
   "execution_count": null,
   "id": "bd6f4c51",
   "metadata": {},
   "outputs": [
    {
     "data": {
      "text/plain": [
       "tuple"
      ]
     },
     "execution_count": 10,
     "metadata": {},
     "output_type": "execute_result"
    }
   ],
   "source": [
    "type(t)\n"
   ]
  },
  {
   "cell_type": "code",
   "execution_count": null,
   "id": "0913d133",
   "metadata": {},
   "outputs": [
    {
     "data": {
      "text/plain": [
       "8"
      ]
     },
     "execution_count": 12,
     "metadata": {},
     "output_type": "execute_result"
    }
   ],
   "source": [
    "len(t2)\n"
   ]
  },
  {
   "cell_type": "code",
   "execution_count": null,
   "id": "0669686e",
   "metadata": {},
   "outputs": [
    {
     "data": {
      "text/plain": [
       "4"
      ]
     },
     "execution_count": 13,
     "metadata": {},
     "output_type": "execute_result"
    }
   ],
   "source": [
    "len(t)"
   ]
  },
  {
   "cell_type": "code",
   "execution_count": null,
   "id": "63ae0e70",
   "metadata": {},
   "outputs": [
    {
     "data": {
      "text/plain": [
       "5"
      ]
     },
     "execution_count": 14,
     "metadata": {},
     "output_type": "execute_result"
    }
   ],
   "source": [
    "t3 = ('hello', 5, 1, 7, [3,9,8])\n",
    "len(t3)"
   ]
  },
  {
   "cell_type": "code",
   "execution_count": null,
   "id": "68b4f6c0",
   "metadata": {},
   "outputs": [
    {
     "data": {
      "text/plain": [
       "list"
      ]
     },
     "execution_count": 15,
     "metadata": {},
     "output_type": "execute_result"
    }
   ],
   "source": [
    "type(t3[4])"
   ]
  },
  {
   "cell_type": "code",
   "execution_count": null,
   "id": "a37793ad",
   "metadata": {},
   "outputs": [
    {
     "data": {
      "text/plain": [
       "[3, 9, 8]"
      ]
     },
     "execution_count": 16,
     "metadata": {},
     "output_type": "execute_result"
    }
   ],
   "source": [
    "var = t3[4]\n",
    "var"
   ]
  },
  {
   "cell_type": "code",
   "execution_count": 34,
   "id": "4b0bcf04",
   "metadata": {},
   "outputs": [
    {
     "data": {
      "text/plain": [
       "[10, 9, 8]"
      ]
     },
     "execution_count": 34,
     "metadata": {},
     "output_type": "execute_result"
    }
   ],
   "source": [
    "t3[4][0] \n",
    "#t3[4][0] = 10 # This will not work because tuples are immutable\n",
    "# To change the value of a list within a tuple, you can do the following\n",
    "var[0] = 10\n",
    "var # This will now show the updated value of the list within the tuple\n",
    "\n",
    "\n"
   ]
  },
  {
   "cell_type": "code",
   "execution_count": 35,
   "id": "0cdd7d25",
   "metadata": {},
   "outputs": [
    {
     "data": {
      "text/plain": [
       "list"
      ]
     },
     "execution_count": 35,
     "metadata": {},
     "output_type": "execute_result"
    }
   ],
   "source": [
    "# To check the type of the variable var, you can use the type() function\n",
    "type(var) # This will show that var is a list\n"
   ]
  },
  {
   "cell_type": "code",
   "execution_count": 36,
   "id": "e495ec8f",
   "metadata": {},
   "outputs": [
    {
     "data": {
      "text/plain": [
       "tuple"
      ]
     },
     "execution_count": 36,
     "metadata": {},
     "output_type": "execute_result"
    }
   ],
   "source": [
    "# To check the type of the variable t3, you can use the type() function\n",
    "type(t3) # This will show that t3 is a tuple\n"
   ]
  },
  {
   "cell_type": "code",
   "execution_count": 37,
   "id": "a8962be2",
   "metadata": {},
   "outputs": [
    {
     "data": {
      "text/plain": [
       "list"
      ]
     },
     "execution_count": 37,
     "metadata": {},
     "output_type": "execute_result"
    }
   ],
   "source": [
    "# To check the type of the variable t3[4], you can use the type() function\n",
    "type(t3[4]) # This will show that t3[4] is a list\n"
   ]
  },
  {
   "cell_type": "code",
   "execution_count": 38,
   "id": "c73e0159",
   "metadata": {},
   "outputs": [
    {
     "data": {
      "text/plain": [
       "str"
      ]
     },
     "execution_count": 38,
     "metadata": {},
     "output_type": "execute_result"
    }
   ],
   "source": [
    "# To check the type of the variable t3[0], you can use the type() function\n",
    "type(t3[0]) # This will show that t3[0] is a string"
   ]
  },
  {
   "cell_type": "code",
   "execution_count": 39,
   "id": "e3be3689",
   "metadata": {},
   "outputs": [
    {
     "data": {
      "text/plain": [
       "int"
      ]
     },
     "execution_count": 39,
     "metadata": {},
     "output_type": "execute_result"
    }
   ],
   "source": [
    "#To check the type of the variable t3[1], you can use the type() function\n",
    "type(t3[1]) # This will show that t3[1] is an integer"
   ]
  },
  {
   "cell_type": "code",
   "execution_count": 40,
   "id": "73d7630a",
   "metadata": {},
   "outputs": [
    {
     "data": {
      "text/plain": [
       "13"
      ]
     },
     "execution_count": 40,
     "metadata": {},
     "output_type": "execute_result"
    }
   ],
   "source": [
    "sum(t3[1:4]) # This will show the sum of the elements in the tuple from index 1 to 4 (exclusive of 4)\n",
    "# To check the type of the variable t3[1:4], you can use the type() function    "
   ]
  },
  {
   "cell_type": "code",
   "execution_count": 41,
   "id": "1a9416b1",
   "metadata": {},
   "outputs": [
    {
     "data": {
      "text/plain": [
       "1"
      ]
     },
     "execution_count": 41,
     "metadata": {},
     "output_type": "execute_result"
    }
   ],
   "source": [
    "min(t3[1:4]) # This will show the minimum value of the elements in the tuple from index 1 to 4 (exclusive of 4)\n",
    "# To check the type of the variable t3[1:4], you can use the type() function    "
   ]
  },
  {
   "cell_type": "code",
   "execution_count": 42,
   "id": "de5792b1",
   "metadata": {},
   "outputs": [
    {
     "data": {
      "text/plain": [
       "7"
      ]
     },
     "execution_count": 42,
     "metadata": {},
     "output_type": "execute_result"
    }
   ],
   "source": [
    "max(t3[1:4]) # This will show the maximum value of the elements in the tuple from index 1 to 4 (exclusive of 4)     "
   ]
  },
  {
   "cell_type": "markdown",
   "id": "bda165be",
   "metadata": {},
   "source": [
    "# Sorting a Tuple\n",
    "## Using typecasting\n",
    "\n",
    "- You cannot sort a tuple without converting into list then convert back to tuple."
   ]
  },
  {
   "cell_type": "code",
   "execution_count": 43,
   "id": "4299257f",
   "metadata": {},
   "outputs": [
    {
     "data": {
      "text/plain": [
       "10"
      ]
     },
     "execution_count": 43,
     "metadata": {},
     "output_type": "execute_result"
    }
   ],
   "source": [
    "## Nested tuples\n",
    "\n",
    "t4 = (1,2,3,4,5,6,7,8,(9,10,11),12)\n",
    "t4[8][1] # This will show the second element of the nested tuple at index 8"
   ]
  },
  {
   "cell_type": "markdown",
   "id": "cba5afd1",
   "metadata": {},
   "source": [
    "# SETS\n",
    "\n",
    "- Unordered collection of items\n",
    "- Items cannot have duplicated objects \n",
    "- They are within curly brackets {}\n",
    "- A type of collection like lists, tuples storing mixed data\n",
    "- They are unordered in nature\n",
    "- Useful when finding unique elements within a list/tuple\n"
   ]
  },
  {
   "cell_type": "code",
   "execution_count": 44,
   "id": "2ff4efbe",
   "metadata": {},
   "outputs": [
    {
     "data": {
      "text/plain": [
       "6"
      ]
     },
     "execution_count": 44,
     "metadata": {},
     "output_type": "execute_result"
    }
   ],
   "source": [
    "Set1 = {1,3,3,4,5,8,7,8}\n",
    "len(Set1) # This will show the length of the set, which is 8 because sets do not allow duplicates"
   ]
  },
  {
   "cell_type": "code",
   "execution_count": 46,
   "id": "0cf20b8a",
   "metadata": {},
   "outputs": [
    {
     "name": "stdout",
     "output_type": "stream",
     "text": [
      "8\n",
      "{1, 2, 3, 4, 5, 7, 10, 14, 23}\n"
     ]
    },
    {
     "data": {
      "text/plain": [
       "{1, 2, 3, 4, 5, 7, 10, 14, 23}"
      ]
     },
     "execution_count": 46,
     "metadata": {},
     "output_type": "execute_result"
    }
   ],
   "source": [
    "Set2 = {1,2,3,4,4,7,7,10,10,23,14}\n",
    "print(len(Set2)) # This will show the length of the set, which is 8 because sets do not allow duplicates\n",
    "Set2.add(5) # This will add the element 5 to the set\n",
    "print(Set2) # This will show the updated set with the added element 5\n",
    "Set2"
   ]
  },
  {
   "cell_type": "markdown",
   "id": "eb26e7eb",
   "metadata": {},
   "source": [
    "## Set Operation\n",
    "1. Union\n",
    "2. Intersection\n",
    "3. Difference\n",
    "4. Symmetric difference"
   ]
  },
  {
   "cell_type": "code",
   "execution_count": null,
   "id": "5f0f2f5b",
   "metadata": {},
   "outputs": [],
   "source": [
    "\n",
    "set1 = {0,2,4,6,8}\n",
    "set2 ={1,3,5,7,9}"
   ]
  },
  {
   "cell_type": "code",
   "execution_count": 49,
   "id": "b7f68793",
   "metadata": {},
   "outputs": [
    {
     "name": "stdout",
     "output_type": "stream",
     "text": [
      "{0, 1, 2, 3, 4, 5, 6, 7, 8, 9}\n",
      "{0, 1, 2, 3, 4, 5, 6, 7, 8, 9}\n",
      "10\n"
     ]
    }
   ],
   "source": [
    "#Union()\n",
    "print(set1 | set2) # This will show the union of set1 and set2, which is {0, 1, 2, 3, 4, 5, 6, 7, 8, 9}\n",
    "# This will show the union of set1 and set2, which is {0, 1, 2, 3, 4, 5, 6, 7, 8, 9}\n",
    "print(set1.union(set2)) # This will also show the union of set1 and set2, which is {0, 1, 2, 3, 4, 5, 6, 7, 8, 9}\n",
    "print(len(set1.union(set2))) # This will show the length of the union of set1 and set2, which is 10"
   ]
  },
  {
   "cell_type": "code",
   "execution_count": 50,
   "id": "cb41781e",
   "metadata": {},
   "outputs": [
    {
     "name": "stdout",
     "output_type": "stream",
     "text": [
      "set()\n",
      "set()\n",
      "0\n"
     ]
    }
   ],
   "source": [
    "#Intersection()\n",
    "print(set1 & set2) # This will show the intersection of set1 and set2, which is an empty set because there are no common elements\n",
    "print(set1.intersection(set2)) # This will also show the intersection of set1 and set2, which is an empty set because there are no common elements\n",
    "print(len(set1.intersection(set2))) # This will show the length of the intersection of set1 and set2, which is 0 because there are no common elements"
   ]
  },
  {
   "cell_type": "code",
   "execution_count": 51,
   "id": "d47b7d7c",
   "metadata": {},
   "outputs": [
    {
     "name": "stdout",
     "output_type": "stream",
     "text": [
      "{0, 2, 4, 6, 8}\n",
      "{0, 2, 4, 6, 8}\n",
      "5\n"
     ]
    }
   ],
   "source": [
    "#Difference()\n",
    "print(set1 - set2) # This will show the difference of set1 and set2, which is {0, 2, 4, 6, 8}\n",
    "print(set1.difference(set2)) # This will also show the difference of set1 and set2, which is {0, 2, 4, 6, 8}\n",
    "print(len(set1.difference(set2))) # This will show the length of the difference of set1 and set2, which is 5"
   ]
  },
  {
   "cell_type": "code",
   "execution_count": 52,
   "id": "5234d6ad",
   "metadata": {},
   "outputs": [
    {
     "name": "stdout",
     "output_type": "stream",
     "text": [
      "{0, 1, 2, 3, 4, 5, 6, 7, 8, 9}\n",
      "{0, 1, 2, 3, 4, 5, 6, 7, 8, 9}\n"
     ]
    }
   ],
   "source": [
    "#symmetric_difference()\n",
    "print(set1 ^ set2) # This will show the symmetric difference of set1 and set2, which is {0, 1, 2, 3, 4, 5, 6, 7, 8, 9}\n",
    "print(set1.symmetric_difference(set2)) # This will also show the symmetric difference of set1 and set2, which is {0, 1, 2, 3, 4, 5, 6, 7, 8, 9}\n"
   ]
  },
  {
   "cell_type": "markdown",
   "id": "d12c53da",
   "metadata": {},
   "source": [
    "## Why do sets get use\n",
    "1. Identifying the unique elements\n",
    "2. Used in place of while loops or iterations"
   ]
  },
  {
   "cell_type": "code",
   "execution_count": 54,
   "id": "e82d3f61",
   "metadata": {},
   "outputs": [
    {
     "name": "stdout",
     "output_type": "stream",
     "text": [
      "{1, 3, 5, 7}\n",
      "[1, 3, 5, 7]\n"
     ]
    }
   ],
   "source": [
    "# Set practice\n",
    "\n",
    "A = [5,1,3,4,5,6,7]\n",
    "B = [3,3,5,5,1,7,1]\n",
    "\n",
    "list1 = set(A) & set(B) # This will show the intersection of A and B, which is {1, 3, 5, 7}\n",
    "print(list1) # This will show the intersection of A and B, which is {1, 3, 5, 7}\n",
    "print(sorted(list1)) # This will show the sorted intersection of A and B, which is [1, 3, 5, 7]"
   ]
  },
  {
   "cell_type": "markdown",
   "id": "3fa12aba",
   "metadata": {},
   "source": [
    "# Dictionary\n",
    "\n",
    "- Unordered collection of data\n",
    "- Stored as **key : value pair**\n",
    "- Keys should not be mutable and values can be of any type\n",
    "- Initiated using curly brakets{}\n",
    "- The key is like an index, unique.\n",
    "\n"
   ]
  },
  {
   "cell_type": "code",
   "execution_count": 3,
   "id": "48f2478c",
   "metadata": {},
   "outputs": [
    {
     "name": "stdout",
     "output_type": "stream",
     "text": [
      "<class 'dict'>\n",
      "Patience\n"
     ]
    }
   ],
   "source": [
    "# Creating a dictionary\n",
    "\n",
    "dict1 = {'name':'Patience', 'age':23, 'country':'Kenya', 'salary':15000, 'bonus':11500, 'internet':'450MB'}\n",
    "print(type(dict1)) # This will show the type of dict1, which is a dictionary\n",
    "\n",
    "# Accessing value using keys\n",
    "print(dict1['name']) # This will show the value associated with the key 'name', which is 'Patience'"
   ]
  },
  {
   "cell_type": "code",
   "execution_count": 4,
   "id": "92bd628a",
   "metadata": {},
   "outputs": [
    {
     "name": "stdout",
     "output_type": "stream",
     "text": [
      "Patience Wanjiru\n"
     ]
    }
   ],
   "source": [
    "# Replacing value for a key\n",
    "dict1['name'] = 'Patience Wanjiru' # This will replace the value associated with the key 'name' with 'Patience Wanjiru'\n",
    "print(dict1['name']) # This will show the updated value associated with the key 'name', which is 'Patience Wanjiru'"
   ]
  },
  {
   "cell_type": "code",
   "execution_count": 6,
   "id": "49f51978",
   "metadata": {},
   "outputs": [
    {
     "name": "stdout",
     "output_type": "stream",
     "text": [
      "{'name': 'Patience Wanjiru', 'age': 23, 'country': 'Kenya', 'salary': 15000, 'bonus': 11500, 'internet': '450MB', 'location': 'Nairobi'}\n"
     ]
    }
   ],
   "source": [
    "# Inserting a new key-value pair\n",
    "dict1['location'] = 'Nairobi' # This will add a new key-value pair to the dictionary, where the key is 'location' and the value is 'Nairobi'\n",
    "print(dict1) # This will show the updated dictionary with the new key-value pair added\n"
   ]
  },
  {
   "cell_type": "code",
   "execution_count": 7,
   "id": "385c65f5",
   "metadata": {},
   "outputs": [
    {
     "name": "stdout",
     "output_type": "stream",
     "text": [
      "{'name': 'Patience Wanjiru', 'age': 23, 'country': 'Kenya', 'salary': 15000, 'bonus': 11500, 'internet': '450MB'}\n"
     ]
    }
   ],
   "source": [
    "# Deleting a key-value pair\n",
    "del dict1['location'] # This will delete the key-value pair with the key 'location' from the dictionary\n",
    "print(dict1) # This will show the updated dictionary with the key-value pair deleted\n"
   ]
  },
  {
   "cell_type": "code",
   "execution_count": 8,
   "id": "496f9497",
   "metadata": {},
   "outputs": [
    {
     "name": "stdout",
     "output_type": "stream",
     "text": [
      "{'name': 'Patience Wanjiru', 'age': 23, 'country': 'Kenya', 'bonus': 11500, 'internet': '450MB'}\n"
     ]
    }
   ],
   "source": [
    "# Deleting a key-value pair using pop()\n",
    "dict1.pop('salary', None) # This will delete the key-value pair with the key 'location' from the dictionary, if it exists\n",
    "print(dict1) # This will show the updated dictionary with the key-value pair deleted, if it existed"
   ]
  },
  {
   "cell_type": "code",
   "execution_count": 9,
   "id": "530f802f",
   "metadata": {},
   "outputs": [
    {
     "name": "stdout",
     "output_type": "stream",
     "text": [
      "dict_values(['Patience Wanjiru', 23, 'Kenya', 11500, '450MB'])\n"
     ]
    }
   ],
   "source": [
    "# values() method\n",
    "dict1.values() # This will show all the values in the dictionary, which are ['Patience Wanjiru', 23, 'Kenya', 11500, '450MB']\n",
    "print(dict1.values()) # This will show all the values in the dictionary, which are ['Patience Wanjiru', 23, 'Kenya', 11500, '450MB']"
   ]
  },
  {
   "cell_type": "code",
   "execution_count": 10,
   "id": "faec5fde",
   "metadata": {},
   "outputs": [
    {
     "name": "stdout",
     "output_type": "stream",
     "text": [
      "dict_keys(['name', 'age', 'country', 'bonus', 'internet'])\n"
     ]
    }
   ],
   "source": [
    "# keys() method\n",
    "dict1.keys() # This will show all the keys in the dictionary, which are ['name', 'age', 'country', 'bonus', 'internet']\n",
    "print(dict1.keys()) # This will show all the keys in the dictionary, which are ['name', 'age', 'country', 'bonus', 'internet']"
   ]
  },
  {
   "cell_type": "code",
   "execution_count": 12,
   "id": "103cfdd1",
   "metadata": {},
   "outputs": [
    {
     "name": "stdout",
     "output_type": "stream",
     "text": [
      "Patience Wanjiru\n",
      "None\n"
     ]
    }
   ],
   "source": [
    "# get() method\n",
    "dict1.get('name') # This will show the value associated with the key 'name', which is 'Patience Wanjiru'\n",
    "print(dict1.get('name')) # This will show the value associated with the key 'name', which is 'Patience Wanjiru'\n",
    "dict1.get('location') # This will show 'Key not found' because the key 'location' does not exist in the dictionary\n",
    "print(dict1.get('location')) # This will show 'Key not found' because the key 'location' does not exist in the dictionary"
   ]
  },
  {
   "cell_type": "code",
   "execution_count": 13,
   "id": "276bf523",
   "metadata": {},
   "outputs": [
    {
     "name": "stdout",
     "output_type": "stream",
     "text": [
      "{'name': 'Patience Wanjiru', 'age': 23, 'country': 'Kenya', 'bonus': 11500, 'internet': '450MB', 'location': 'Nairobi'}\n"
     ]
    }
   ],
   "source": [
    "# update() method\n",
    "dict1.update({'location':'Nairobi'}) # This will update the dictionary with the new key-value pair, where the key is 'location' and the value is 'Nairobi'\n",
    "print(dict1) # This will show the updated dictionary with the new key-value pair added\n"
   ]
  }
 ],
 "metadata": {
  "kernelspec": {
   "display_name": "Python 3",
   "language": "python",
   "name": "python3"
  },
  "language_info": {
   "codemirror_mode": {
    "name": "ipython",
    "version": 3
   },
   "file_extension": ".py",
   "mimetype": "text/x-python",
   "name": "python",
   "nbconvert_exporter": "python",
   "pygments_lexer": "ipython3",
   "version": "3.13.2"
  }
 },
 "nbformat": 4,
 "nbformat_minor": 5
}
